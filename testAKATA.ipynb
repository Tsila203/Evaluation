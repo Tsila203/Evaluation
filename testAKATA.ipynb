{
 "cells": [
  {
   "cell_type": "code",
   "execution_count": 29,
   "id": "79fcf514-af50-47bb-83c6-dd56e0425d71",
   "metadata": {},
   "outputs": [],
   "source": [
    "def isValidHtml(html):\n",
    "    if html.startswith(\"</\") and html.endswith(\">\"):\n",
    "        return True\n",
    "    else:\n",
    "        return False"
   ]
  },
  {
   "cell_type": "code",
   "execution_count": 26,
   "id": "19158835-e934-469e-9670-d259c8a6dda7",
   "metadata": {},
   "outputs": [
    {
     "name": "stdout",
     "output_type": "stream",
     "text": [
      "qggq: (12, 10)\n"
     ]
    }
   ],
   "source": [
    "\n",
    "def isMonExp(experience):\n",
    "    experience_trie = sorted(tableau, reverse=True)\n",
    "    return experience_trie[0], experience_trie[1]\n",
    "experience = [5, 10, 3, 8, 12]\n",
    "if(isMonExp):\n",
    "    print('qggq:',isMonExp(experience))\n",
    "else:\n",
    "    a=experience_trie[2], b=experie"
   ]
  },
  {
   "cell_type": "code",
   "execution_count": 25,
   "id": "7210a63e-e54d-4403-a3a4-9a62d0474648",
   "metadata": {},
   "outputs": [
    {
     "name": "stdout",
     "output_type": "stream",
     "text": [
      "Pour N = 156 , J = 154\n"
     ]
    }
   ],
   "source": [
    "def noCons(N):\n",
    "    def anoCons(nombre):\n",
    "        nombre_str = str(nombre)\n",
    "        for i in range(len(nombre_str) - 1):\n",
    "            if nombre_str[i] == nombre_str[i + 1]:\n",
    "                return True\n",
    "        return False\n",
    "\n",
    "    J = N - 1\n",
    "    while anoCons(J):\n",
    "        J -= 1\n",
    "    return J\n",
    "\n",
    "N = 156\n",
    "J = plus_petit_nombre_sans_chiffres_consecutifs(N)\n",
    "print(\"Pour N =\", N, \", J =\", J)"
   ]
  }
 ],
 "metadata": {
  "kernelspec": {
   "display_name": "Python 3 (ipykernel)",
   "language": "python",
   "name": "python3"
  },
  "language_info": {
   "codemirror_mode": {
    "name": "ipython",
    "version": 3
   },
   "file_extension": ".py",
   "mimetype": "text/x-python",
   "name": "python",
   "nbconvert_exporter": "python",
   "pygments_lexer": "ipython3",
   "version": "3.11.7"
  }
 },
 "nbformat": 4,
 "nbformat_minor": 5
}
